{
  "nbformat": 4,
  "nbformat_minor": 0,
  "metadata": {
    "colab": {
      "name": "Kaggle_과제_다운로드.ipynb",
      "provenance": [],
      "collapsed_sections": [],
      "mount_file_id": "1CoLiG1hfxzwIeduAWGSe-SFzf2wPtYKB",
      "authorship_tag": "ABX9TyMoDzQ94tRF9YtLb2yOzkB6",
      "include_colab_link": true
    },
    "kernelspec": {
      "name": "python3",
      "display_name": "Python 3"
    }
  },
  "cells": [
    {
      "cell_type": "markdown",
      "metadata": {
        "id": "view-in-github",
        "colab_type": "text"
      },
      "source": [
        "<a href=\"https://colab.research.google.com/github/cyberfury/Kaggle/blob/main/Kaggle_%EA%B3%BC%EC%A0%9C_%EB%8B%A4%EC%9A%B4%EB%A1%9C%EB%93%9C.ipynb\" target=\"_parent\"><img src=\"https://colab.research.google.com/assets/colab-badge.svg\" alt=\"Open In Colab\"/></a>"
      ]
    },
    {
      "cell_type": "markdown",
      "metadata": {
        "id": "auFGJb7CaSIu"
      },
      "source": [
        "# 캐글 계정을 구글코랩을 연동하는 방법에 대한 기본 안내이다."
      ]
    },
    {
      "cell_type": "markdown",
      "metadata": {
        "id": "tm6vWvz6Z0Wc"
      },
      "source": [
        "### **1. 캐글 계정에서 API 다운 받기**\n",
        "##### API 는 최초1회만 다운로드받고, 복사하면 된다"
      ]
    },
    {
      "cell_type": "markdown",
      "metadata": {
        "id": "zoZF-xRLZ3Pv"
      },
      "source": [
        "##### 0) 캐글에 접속. https://www.kaggle.com/ 가입 등은 알아서 진행 할 것\n",
        "##### 1) 사이트에 로그인을 한 후 Accoount 메뉴를 선택\n",
        "##### 2) Create New API Token 을 클릭하여 토큰 파일을 다운"
      ]
    },
    {
      "cell_type": "code",
      "metadata": {
        "id": "Whp8JS8kZDe0",
        "colab": {
          "base_uri": "https://localhost:8080/"
        },
        "outputId": "5a7b3ebe-5b4d-437e-ba4c-8ee98f4e54cb"
      },
      "source": [
        "# 시작전에 Google Drive와 Connect 할 것\n",
        "# Kaggle API 호출\n",
        "##############################################\n",
        "!pip install --upgrade --force-reinstall --no-deps kaggle ## 코랩의 캐글버전 업데이트 \n",
        "!pip install kaggle # 캐글 API 설치\n",
        "!mkdir -p ~/.kaggle\n",
        "!cp drive/MyDrive/민형_자료들/Kaggle_Key/kaggle.json ~/.kaggle/\n",
        "# Permission Warning 이 일어나지 않도록 \n",
        "!chmod 600 ~/.kaggle/kaggle.json\n",
        "# json 파일 제대로 업로드 됐는지 확인\n",
        "!ls -1ha ~/.kaggle/kaggle.json\n",
        "##############################################\n",
        "# 본인이 참가한 모든 대회 보기 \n",
        "!kaggle competitions list"
      ],
      "execution_count": null,
      "outputs": [
        {
          "output_type": "stream",
          "name": "stdout",
          "text": [
            "Collecting kaggle\n",
            "  Downloading kaggle-1.5.12.tar.gz (58 kB)\n",
            "\u001b[?25l\r\u001b[K     |█████▋                          | 10 kB 22.9 MB/s eta 0:00:01\r\u001b[K     |███████████▏                    | 20 kB 28.8 MB/s eta 0:00:01\r\u001b[K     |████████████████▊               | 30 kB 13.0 MB/s eta 0:00:01\r\u001b[K     |██████████████████████▎         | 40 kB 9.8 MB/s eta 0:00:01\r\u001b[K     |███████████████████████████▉    | 51 kB 5.2 MB/s eta 0:00:01\r\u001b[K     |████████████████████████████████| 58 kB 3.1 MB/s \n",
            "\u001b[?25hBuilding wheels for collected packages: kaggle\n",
            "  Building wheel for kaggle (setup.py) ... \u001b[?25l\u001b[?25hdone\n",
            "  Created wheel for kaggle: filename=kaggle-1.5.12-py3-none-any.whl size=73051 sha256=cb75a40f13a8adeb975cd1be14b8476065cc2ceff4c0b9c707dc70254887521c\n",
            "  Stored in directory: /root/.cache/pip/wheels/62/d6/58/5853130f941e75b2177d281eb7e44b4a98ed46dd155f556dc5\n",
            "Successfully built kaggle\n",
            "Installing collected packages: kaggle\n",
            "  Attempting uninstall: kaggle\n",
            "    Found existing installation: kaggle 1.5.12\n",
            "    Uninstalling kaggle-1.5.12:\n",
            "      Successfully uninstalled kaggle-1.5.12\n",
            "Successfully installed kaggle-1.5.12\n",
            "Requirement already satisfied: kaggle in /usr/local/lib/python3.7/dist-packages (1.5.12)\n",
            "Requirement already satisfied: certifi in /usr/local/lib/python3.7/dist-packages (from kaggle) (2021.5.30)\n",
            "Requirement already satisfied: python-dateutil in /usr/local/lib/python3.7/dist-packages (from kaggle) (2.8.2)\n",
            "Requirement already satisfied: python-slugify in /usr/local/lib/python3.7/dist-packages (from kaggle) (5.0.2)\n",
            "Requirement already satisfied: six>=1.10 in /usr/local/lib/python3.7/dist-packages (from kaggle) (1.15.0)\n",
            "Requirement already satisfied: urllib3 in /usr/local/lib/python3.7/dist-packages (from kaggle) (1.24.3)\n",
            "Requirement already satisfied: tqdm in /usr/local/lib/python3.7/dist-packages (from kaggle) (4.62.3)\n",
            "Requirement already satisfied: requests in /usr/local/lib/python3.7/dist-packages (from kaggle) (2.23.0)\n",
            "Requirement already satisfied: text-unidecode>=1.3 in /usr/local/lib/python3.7/dist-packages (from python-slugify->kaggle) (1.3)\n",
            "Requirement already satisfied: chardet<4,>=3.0.2 in /usr/local/lib/python3.7/dist-packages (from requests->kaggle) (3.0.4)\n",
            "Requirement already satisfied: idna<3,>=2.5 in /usr/local/lib/python3.7/dist-packages (from requests->kaggle) (2.10)\n",
            "/root/.kaggle/kaggle.json\n",
            "ref                                                  deadline             category            reward  teamCount  userHasEntered  \n",
            "---------------------------------------------------  -------------------  ---------------  ---------  ---------  --------------  \n",
            "contradictory-my-dear-watson                         2030-07-01 23:59:00  Getting Started     Prizes         59           False  \n",
            "gan-getting-started                                  2030-07-01 23:59:00  Getting Started     Prizes        127           False  \n",
            "tpu-getting-started                                  2030-06-03 23:59:00  Getting Started  Knowledge        210           False  \n",
            "digit-recognizer                                     2030-01-01 00:00:00  Getting Started  Knowledge       1508           False  \n",
            "titanic                                              2030-01-01 00:00:00  Getting Started  Knowledge      23032            True  \n",
            "house-prices-advanced-regression-techniques          2030-01-01 00:00:00  Getting Started  Knowledge       4513           False  \n",
            "connectx                                             2030-01-01 00:00:00  Getting Started  Knowledge        326           False  \n",
            "nlp-getting-started                                  2030-01-01 00:00:00  Getting Started  Knowledge       1306           False  \n",
            "competitive-data-science-predict-future-sales        2022-12-31 23:59:00  Playground           Kudos      12622           False  \n",
            "petfinder-pawpularity-score                          2022-01-13 23:59:00  Research           $25,000        585           False  \n",
            "optiver-realized-volatility-prediction               2022-01-10 23:59:00  Featured          $100,000       3965           False  \n",
            "nfl-big-data-bowl-2022                               2022-01-06 23:59:00  Analytics         $100,000          0           False  \n",
            "wikipedia-image-caption                              2021-12-09 11:59:00  Playground            Swag         44           False  \n",
            "lux-ai-2021                                          2021-12-06 23:59:00  Featured           $10,000        645           False  \n",
            "chaii-hindi-and-tamil-question-answering             2021-11-15 23:59:00  Research           $10,000        565           False  \n",
            "ventilator-pressure-prediction                       2021-11-03 23:59:00  Research            $7,500       1280           False  \n",
            "nfl-health-and-safety-helmet-assignment              2021-11-02 23:59:00  Featured          $100,000        626           False  \n",
            "tabular-playground-series-oct-2021                   2021-10-31 23:59:00  Playground            Swag        336           False  \n",
            "rsna-miccai-brain-tumor-radiogenomic-classification  2021-10-15 23:59:00  Featured           $30,000       1382           False  \n",
            "landmark-recognition-2021                            2021-10-01 23:59:00  Research              Swag        383           False  \n"
          ]
        }
      ]
    },
    {
      "cell_type": "code",
      "metadata": {
        "id": "P5xRq7JL7JGt",
        "colab": {
          "base_uri": "https://localhost:8080/"
        },
        "outputId": "5e796849-c155-4d05-9d44-e5ed2830857d"
      },
      "source": [
        "#예시 : 타이타닉 데이터 다운로드\n",
        "!kaggle competitions download -c titanic"
      ],
      "execution_count": null,
      "outputs": [
        {
          "output_type": "stream",
          "name": "stdout",
          "text": [
            "Downloading titanic.zip to /content\n",
            "\r  0% 0.00/34.1k [00:00<?, ?B/s]\n",
            "\r100% 34.1k/34.1k [00:00<00:00, 24.7MB/s]\n"
          ]
        }
      ]
    },
    {
      "cell_type": "code",
      "metadata": {
        "colab": {
          "base_uri": "https://localhost:8080/"
        },
        "id": "etAhPfbIhTJp",
        "outputId": "346ce2b2-7eae-406a-d299-10012ccc27e8"
      },
      "source": [
        "# 데이터셋 압축 풀기 및 구글드라이브에 파일 복사\n",
        "!mkdir -p \"drive/MyDrive/KaggleDownload/\" ## 캐글폴더 생성\n",
        "!mkdir -p \"drive/MyDrive/KaggleDownload/titanic\" ## 데이터셋 이름. 커널명령으로 변수가 먹지 않는듯?\n",
        "!unzip \"titanic.zip\" -d \"drive/MyDrive/KaggleDownload/titanic\"\n",
        "!ls  \"drive/MyDrive/KaggleDownload/titanic\""
      ],
      "execution_count": null,
      "outputs": [
        {
          "output_type": "stream",
          "name": "stdout",
          "text": [
            "Archive:  titanic.zip\n",
            "  inflating: drive/MyDrive/KaggleDownload/titanic/gender_submission.csv  \n",
            "  inflating: drive/MyDrive/KaggleDownload/titanic/test.csv  \n",
            "  inflating: drive/MyDrive/KaggleDownload/titanic/train.csv  \n",
            "gender_submission.csv  test.csv  train.csv\n"
          ]
        }
      ]
    },
    {
      "cell_type": "code",
      "metadata": {
        "id": "HlkDuxcSiICo"
      },
      "source": [
        "# 파일 불러오기 전에 Google Drive와 Connect 할 것\n",
        "# 파일 불러오기\n",
        "import pandas as pd\n",
        "folder_path=\"drive/MyDrive/KaggleDownload/titanic/\"\n",
        "file_name=folder_path+\"test.csv\"\n",
        "sample_df=pd.read_csv(file_name)"
      ],
      "execution_count": null,
      "outputs": []
    },
    {
      "cell_type": "code",
      "metadata": {
        "id": "zWzvoaZhmPud",
        "colab": {
          "base_uri": "https://localhost:8080/"
        },
        "outputId": "30fd3d6d-62b8-4792-cd4c-f5e252c34975"
      },
      "source": [
        "l1=[1,2,3,4]\n",
        "l2=[1,2,3,4]\n",
        "\n",
        "result=[]\n",
        "for x,y in zip(l1,l2) :\n",
        "  result.append(x+y)\n",
        "print(result)"
      ],
      "execution_count": null,
      "outputs": [
        {
          "output_type": "stream",
          "name": "stdout",
          "text": [
            "[2, 4, 6, 8]\n"
          ]
        }
      ]
    },
    {
      "cell_type": "code",
      "metadata": {
        "id": "c0d_j9JUfJJB"
      },
      "source": [
        ""
      ],
      "execution_count": null,
      "outputs": []
    }
  ]
}